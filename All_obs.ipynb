{
 "cells": [
  {
   "cell_type": "markdown",
   "metadata": {},
   "source": [
    "# Pregled dostupnih podataka za 4 reakcije\n",
    "## 1. korak: Pregled energija na kojima su dostupni podaci (po reakcijama)"
   ]
  },
  {
   "cell_type": "code",
   "execution_count": 1,
   "metadata": {},
   "outputs": [],
   "source": [
    "import pandas as pd\n",
    "import numpy as np\n",
    "import matplotlib.pyplot as plt\n",
    "plt.style.use('seaborn')\n",
    "%matplotlib inline\n",
    "import mpld3\n",
    "mpld3.enable_notebook()"
   ]
  },
  {
   "cell_type": "code",
   "execution_count": 2,
   "metadata": {},
   "outputs": [],
   "source": [
    "data=pd.read_csv('/home/rifat/Downloads/DATA_234R/Observable_po_Energijama_Allreac.dat', delimiter=r'\\s+')"
   ]
  },
  {
   "cell_type": "code",
   "execution_count": null,
   "metadata": {},
   "outputs": [],
   "source": [
    "data.head()"
   ]
  },
  {
   "cell_type": "code",
   "execution_count": null,
   "metadata": {},
   "outputs": [],
   "source": [
    "data.shape"
   ]
  },
  {
   "cell_type": "code",
   "execution_count": 3,
   "metadata": {},
   "outputs": [],
   "source": [
    "W=data.iloc[:,0]; R=data.iloc[:,2]"
   ]
  },
  {
   "cell_type": "code",
   "execution_count": null,
   "metadata": {},
   "outputs": [],
   "source": [
    "data.tail()"
   ]
  },
  {
   "cell_type": "code",
   "execution_count": null,
   "metadata": {},
   "outputs": [],
   "source": [
    "import plotly.plotly as py\n",
    "import plotly.graph_objs as go\n",
    "\n",
    "# Create random data with numpy\n",
    "import numpy as np\n",
    "\n",
    "\n",
    "\n",
    "# Create a trace\n",
    "trace = go.Scatter(\n",
    "    x = W,\n",
    "    y = R,\n",
    "    mode = 'markers'\n",
    ")\n",
    "\n",
    "layout = go.Layout(\n",
    "    title='Obs in reactions',\n",
    "    xaxis=dict(\n",
    "        title='W',\n",
    "        range=[1000,2600]\n",
    "        \n",
    "    ),\n",
    "    yaxis=dict(\n",
    "        title='R1, R2, R3, R4',\n",
    "        tickvals=[1,2,3,4],\n",
    "        ticktext=['R1','R2','R3','R4']\n",
    "        \n",
    "    )\n",
    ")\n",
    "\n",
    "data = [trace]\n",
    "\n",
    "# Plot and embed in ipython notebook!\n",
    "fig = go.Figure(data=data, layout=layout)\n",
    "py.iplot(fig, filename='all-obs-all-R')\n",
    "\n",
    "\n",
    "# or plot with: plot_url = py.plot(data, filename='basic-line')"
   ]
  },
  {
   "cell_type": "markdown",
   "metadata": {},
   "source": [
    "Graf prikazuje na kojim energijama imamo neku od opservabli iz neke od četiri reakcije."
   ]
  },
  {
   "cell_type": "markdown",
   "metadata": {},
   "source": [
    "## 2. korak: Pregled na kojim energijama možemo imati amplitude\n",
    "#### Za reakcije 1 i 3"
   ]
  },
  {
   "cell_type": "code",
   "execution_count": 5,
   "metadata": {},
   "outputs": [],
   "source": [
    "n=W.size\n",
    "R13=np.zeros(shape=(n,1))"
   ]
  },
  {
   "cell_type": "code",
   "execution_count": 6,
   "metadata": {},
   "outputs": [
    {
     "data": {
      "text/plain": [
       "2219"
      ]
     },
     "execution_count": 6,
     "metadata": {},
     "output_type": "execute_result"
    }
   ],
   "source": [
    "N=2204 # broj originalnih vrijednosti\n",
    "n  # prosireni sa nulama"
   ]
  },
  {
   "cell_type": "code",
   "execution_count": null,
   "metadata": {},
   "outputs": [],
   "source": []
  },
  {
   "cell_type": "code",
   "execution_count": 7,
   "metadata": {},
   "outputs": [],
   "source": [
    "for i in range (0,2204):\n",
    "    for ij in range (0,15):\n",
    "        if W[i]==W[i+ij]:\n",
    "            if (R[i]==1 and R[i+ij]==3) or (R[i]==3 and R[i+ij]==1):\n",
    "                R13[i]=13         "
   ]
  },
  {
   "cell_type": "code",
   "execution_count": 8,
   "metadata": {},
   "outputs": [],
   "source": [
    "kontrolaR13 = pd.DataFrame(R13, columns=['R1-R3']).to_csv('r13.csv')"
   ]
  },
  {
   "cell_type": "code",
   "execution_count": 20,
   "metadata": {},
   "outputs": [
    {
     "data": {
      "text/html": [
       "<iframe id=\"igraph\" scrolling=\"no\" style=\"border:none;\" seamless=\"seamless\" src=\"https://plot.ly/~pwatuzla2017/4.embed\" height=\"525px\" width=\"100%\"></iframe>"
      ],
      "text/plain": [
       "<plotly.tools.PlotlyDisplay object>"
      ]
     },
     "execution_count": 20,
     "metadata": {},
     "output_type": "execute_result"
    }
   ],
   "source": [
    "import plotly.plotly as py\n",
    "import plotly.graph_objs as go\n",
    "\n",
    "# Create random data with numpy\n",
    "import numpy as np\n",
    "\n",
    "\n",
    "\n",
    "# Create a trace\n",
    "trace = go.Scatter(\n",
    "    x = W,\n",
    "    y = R13,\n",
    "    mode = 'markers'\n",
    ")\n",
    "\n",
    "layout = go.Layout(\n",
    "    title='Obs in reactions',\n",
    "    xaxis=dict(\n",
    "        title='W',\n",
    "        range=[1000,2600]\n",
    "        \n",
    "    ),\n",
    "    yaxis=dict(\n",
    "        title='R1 & R3',\n",
    "        tickvals=[13],\n",
    "        ticktext=['R13'],\n",
    "        range=[11,15]\n",
    "        \n",
    "    )\n",
    ")\n",
    "\n",
    "data = [trace]\n",
    "\n",
    "# Plot and embed in ipython notebook!\n",
    "fig1 = go.Figure(data=data, layout=layout)\n",
    "py.iplot(fig1, filename='all-obs-all-R')\n",
    "\n",
    "\n",
    "# or plot with: plot_url = py.plot(data, filename='basic-line')"
   ]
  },
  {
   "cell_type": "markdown",
   "metadata": {},
   "source": [
    "Reakcije 1 i 3 daju $A_p^{1/2}$ i $A^{3/2}$."
   ]
  },
  {
   "cell_type": "markdown",
   "metadata": {},
   "source": [
    "#### Za reakcije 2 i 4"
   ]
  },
  {
   "cell_type": "code",
   "execution_count": 15,
   "metadata": {},
   "outputs": [
    {
     "data": {
      "text/plain": [
       "4"
      ]
     },
     "execution_count": 15,
     "metadata": {},
     "output_type": "execute_result"
    }
   ],
   "source": [
    "R24=np.zeros(shape=(n,1))\n",
    "N=2204 # broj originalnih vrijednosti\n",
    "n  # prosireni sa nulama\n"
   ]
  },
  {
   "cell_type": "code",
   "execution_count": 23,
   "metadata": {},
   "outputs": [],
   "source": [
    "for i in range (0,2204):\n",
    "    for ij in range (0,15):\n",
    "        if W[i]==W[i+ij]:\n",
    "            if (R[i]==2 and R[i+ij]==4) or (R[i]==4 and R[i+ij]==2):\n",
    "                R24[i]=15     "
   ]
  },
  {
   "cell_type": "code",
   "execution_count": 24,
   "metadata": {},
   "outputs": [],
   "source": [
    "kontrolaR24 = pd.DataFrame(R24, columns=['R2-R4']).to_csv('r24.csv')"
   ]
  },
  {
   "cell_type": "code",
   "execution_count": 27,
   "metadata": {},
   "outputs": [
    {
     "data": {
      "text/html": [
       "<iframe id=\"igraph\" scrolling=\"no\" style=\"border:none;\" seamless=\"seamless\" src=\"https://plot.ly/~pwatuzla2017/6.embed\" height=\"525px\" width=\"100%\"></iframe>"
      ],
      "text/plain": [
       "<plotly.tools.PlotlyDisplay object>"
      ]
     },
     "execution_count": 27,
     "metadata": {},
     "output_type": "execute_result"
    }
   ],
   "source": [
    "import plotly.plotly as py\n",
    "import plotly.graph_objs as go\n",
    "\n",
    "# Create random data with numpy\n",
    "import numpy as np\n",
    "\n",
    "\n",
    "\n",
    "# Create a trace\n",
    "trace = go.Scatter(\n",
    "    x = W,\n",
    "    y = R24,\n",
    "    mode = 'markers'\n",
    ")\n",
    "\n",
    "layout = go.Layout(\n",
    "    title='Obs in reactions',\n",
    "    xaxis=dict(\n",
    "        title='W',\n",
    "        range=[1000,2600]\n",
    "        \n",
    "    ),\n",
    "    yaxis=dict(\n",
    "        title='R2 & R4',\n",
    "        tickvals=[15],\n",
    "        ticktext=['R24'],\n",
    "        range=[13,17]\n",
    "        \n",
    "    )\n",
    ")\n",
    "\n",
    "data = [trace]\n",
    "\n",
    "# Plot and embed in ipython notebook!\n",
    "fig = go.Figure(data=data, layout=layout)\n",
    "py.iplot(fig, filename='all-obs-all-R24')\n",
    "\n",
    "\n",
    "\n",
    "# or plot with: plot_url = py.plot(data, filename='basic-line')"
   ]
  },
  {
   "cell_type": "markdown",
   "metadata": {},
   "source": [
    "Reakcije 2 i 4 daju $A_n^{1/2}$ i $A^{1/2}$."
   ]
  },
  {
   "cell_type": "code",
   "execution_count": 32,
   "metadata": {},
   "outputs": [
    {
     "data": {
      "text/html": [
       "<iframe id=\"igraph\" scrolling=\"no\" style=\"border:none;\" seamless=\"seamless\" src=\"https://plot.ly/~pwatuzla2017/6.embed\" height=\"525px\" width=\"100%\"></iframe>"
      ],
      "text/plain": [
       "<plotly.tools.PlotlyDisplay object>"
      ]
     },
     "execution_count": 32,
     "metadata": {},
     "output_type": "execute_result"
    }
   ],
   "source": [
    "import plotly.plotly as py\n",
    "import plotly.graph_objs as go\n",
    "\n",
    "# Create random data with numpy\n",
    "import numpy as np\n",
    "\n",
    "\n",
    "\n",
    "# Create a trace\n",
    "trace1 = go.Scatter(\n",
    "    x = W,\n",
    "    y = R13,\n",
    "    mode = 'markers',\n",
    "    name='$A_p^{1/2},A^{3/2}$'\n",
    ")\n",
    "# Create a trace\n",
    "trace2 = go.Scatter(\n",
    "    x = W,\n",
    "    y = R24,\n",
    "    mode = 'markers',\n",
    "    name='$A_n^{1/2},A^{1/2}$'\n",
    ")\n",
    "\n",
    "layout = go.Layout(\n",
    "    title='Obs in reactions',\n",
    "    xaxis=dict(\n",
    "        title='W',\n",
    "        range=[1000,2600]\n",
    "        \n",
    "    ),\n",
    "    yaxis=dict(\n",
    "        title='R13 vs R24',\n",
    "        tickvals=[13,15],\n",
    "        ticktext=['R13','R24'],\n",
    "        range=[11,17]\n",
    "        \n",
    "    )\n",
    ")\n",
    "\n",
    "data1 = [trace1,trace2]\n",
    "\n",
    "\n",
    "# Plot and embed in ipython notebook!\n",
    "fig = go.Figure(data=data1, layout=layout)\n",
    "py.iplot(fig, filename='all-obs-all-R24')\n",
    "\n",
    "\n",
    "\n",
    "# or plot with: plot_url = py.plot(data, filename='basic-line')"
   ]
  },
  {
   "cell_type": "markdown",
   "metadata": {},
   "source": [
    "### Zapis vrijednosti sa grafova"
   ]
  },
  {
   "cell_type": "code",
   "execution_count": 104,
   "metadata": {},
   "outputs": [],
   "source": [
    "outputR24= np.column_stack((W,R24))"
   ]
  },
  {
   "cell_type": "code",
   "execution_count": 105,
   "metadata": {},
   "outputs": [],
   "source": [
    "Data_reac_24=[]  # Zapis samo energija na kojima imamo istovremeno 2 i 4 (tacke na grafu)"
   ]
  },
  {
   "cell_type": "code",
   "execution_count": 106,
   "metadata": {},
   "outputs": [],
   "source": [
    "for i in range (0,n):\n",
    "    if outputR24[i,1]==15:\n",
    "        Data_reac_24.append(outputR24[i])\n",
    "  "
   ]
  },
  {
   "cell_type": "code",
   "execution_count": 107,
   "metadata": {},
   "outputs": [],
   "source": [
    "reac_2and4=pd.DataFrame(Data_reac_24,columns=['W','R24']).to_csv('output24.csv')  #eksport u fajl"
   ]
  },
  {
   "cell_type": "code",
   "execution_count": 108,
   "metadata": {},
   "outputs": [],
   "source": [
    "outputR13= np.column_stack((W,R13))\n",
    "Data_reac_13=[]  # Zapis samo energija na kojima imamo istovremeno 2 i 4 (tacke na grafu)"
   ]
  },
  {
   "cell_type": "code",
   "execution_count": 109,
   "metadata": {},
   "outputs": [],
   "source": [
    "for i in range (0,n):\n",
    "    if outputR13[i,1]==13:\n",
    "        Data_reac_13.append(outputR13[i])\n",
    "        \n",
    "reac_1and3=pd.DataFrame(Data_reac_13,columns=['W','R13']).to_csv('output13.csv')  #eksport u fajl"
   ]
  },
  {
   "cell_type": "code",
   "execution_count": null,
   "metadata": {},
   "outputs": [],
   "source": []
  }
 ],
 "metadata": {
  "kernelspec": {
   "display_name": "Python 3",
   "language": "python",
   "name": "python3"
  },
  "language_info": {
   "codemirror_mode": {
    "name": "ipython",
    "version": 3
   },
   "file_extension": ".py",
   "mimetype": "text/x-python",
   "name": "python",
   "nbconvert_exporter": "python",
   "pygments_lexer": "ipython3",
   "version": "3.7.0"
  }
 },
 "nbformat": 4,
 "nbformat_minor": 2
}

{
 "cells": [
  {
   "cell_type": "markdown",
   "metadata": {},
   "source": [
    "# Rezultati prvog testa iz Akvizicije i obrade podataka \n",
    " - Zahida Selimbašić 23%\n",
    " - Damadžić Melika 58%\n",
    " - Tulumović Zina 48%\n",
    " - Azra Hodžić 63%\n",
    " - Berković Samira 80%\n",
    " - Amra Bajrić 83%\n"
   ]
  },
  {
   "cell_type": "markdown",
   "metadata": {},
   "source": [
    "# Rezultati prvog testa iz Opće fizika 2\n",
    "- Ajla Karic 78%\n",
    "- Irhad Šišić 68%\n",
    "- Admir Čaušević 45%"
   ]
  },
  {
   "cell_type": "code",
   "execution_count": null,
   "metadata": {},
   "outputs": [],
   "source": []
  }
 ],
 "metadata": {
  "kernelspec": {
   "display_name": "Python 3",
   "language": "python",
   "name": "python3"
  },
  "language_info": {
   "codemirror_mode": {
    "name": "ipython",
    "version": 3
   },
   "file_extension": ".py",
   "mimetype": "text/x-python",
   "name": "python",
   "nbconvert_exporter": "python",
   "pygments_lexer": "ipython3",
   "version": "3.7.2"
  }
 },
 "nbformat": 4,
 "nbformat_minor": 2
}
